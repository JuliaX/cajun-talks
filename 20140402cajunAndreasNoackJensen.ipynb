{
 "metadata": {
  "language": "Julia",
  "name": ""
 },
 "nbformat": 3,
 "nbformat_minor": 0,
 "worksheets": [
  {
   "cells": [
    {
     "cell_type": "markdown",
     "metadata": {},
     "source": [
      "#Linear algebra in Julia\n",
      "##Outline\n",
      " - Basic linear algebra\n",
      " - Factorizations\n",
      " - Special matrices\n",
      " - Generic linear algebra"
     ]
    },
    {
     "cell_type": "markdown",
     "metadata": {},
     "source": [
      "##Basic linear algebra\n",
      "Syntax very similar to MATLAB by there are some important differences. Define a matrix of random normal variates"
     ]
    },
    {
     "cell_type": "code",
     "collapsed": false,
     "input": [
      "A = randn(3,3)"
     ],
     "language": "python",
     "metadata": {},
     "outputs": [
      {
       "metadata": {},
       "output_type": "pyout",
       "prompt_number": 1,
       "text": [
        "3x3 Array{Float64,2}:\n",
        " 1.22112  -1.04948   -0.544682\n",
        " 2.00471  -0.121917  -1.62091 \n",
        " 1.64939  -0.681989   0.362995"
       ]
      }
     ],
     "prompt_number": 1
    },
    {
     "cell_type": "markdown",
     "metadata": {},
     "source": [
      "and a vector of ones"
     ]
    },
    {
     "cell_type": "code",
     "collapsed": false,
     "input": [
      "x = ones(3)"
     ],
     "language": "python",
     "metadata": {},
     "outputs": [
      {
       "metadata": {},
       "output_type": "pyout",
       "prompt_number": 2,
       "text": [
        "3-element Array{Float64,1}:\n",
        " 1.0\n",
        " 1.0\n",
        " 1.0"
       ]
      }
     ],
     "prompt_number": 2
    },
    {
     "cell_type": "markdown",
     "metadata": {},
     "source": [
      "Notice that $A$ has type Array{Float64,2} but $x$ has type Array{Float64,1}. Julia defines the aliases Vector{Type}=Array{Type,1} and Matrix{Type}=Array{Type,2} in Julia. The destinction between between vectors and matrices typically causes some confusion when coming from a MATLAB background.\n",
      "\n",
      "Many of the basic operations are the same as in MATLAB\n",
      "###Multiplication"
     ]
    },
    {
     "cell_type": "code",
     "collapsed": false,
     "input": [
      "b = A*x"
     ],
     "language": "python",
     "metadata": {},
     "outputs": [
      {
       "metadata": {},
       "output_type": "pyout",
       "prompt_number": 3,
       "text": [
        "3-element Array{Float64,1}:\n",
        " -0.373049\n",
        "  0.261885\n",
        "  1.3304  "
       ]
      }
     ],
     "prompt_number": 3
    },
    {
     "cell_type": "markdown",
     "metadata": {},
     "source": [
      "###Transposition\n",
      "As in MATLAB `A'` is the conjugate transpose whereas `A.'` is just the transpose"
     ]
    },
    {
     "cell_type": "code",
     "collapsed": false,
     "input": [
      "Asym = A + A'"
     ],
     "language": "python",
     "metadata": {},
     "outputs": [
      {
       "metadata": {},
       "output_type": "pyout",
       "prompt_number": 4,
       "text": [
        "3x3 Array{Float64,2}:\n",
        " 2.44224    0.955227   1.10471 \n",
        " 0.955227  -0.243835  -2.3029  \n",
        " 1.10471   -2.3029     0.725991"
       ]
      }
     ],
     "prompt_number": 4
    },
    {
     "cell_type": "markdown",
     "metadata": {},
     "source": [
      "###Transposed multiplication\n",
      "Julia allows us to write this without *"
     ]
    },
    {
     "cell_type": "code",
     "collapsed": false,
     "input": [
      "Apd = A'A"
     ],
     "language": "python",
     "metadata": {},
     "outputs": [
      {
       "metadata": {},
       "output_type": "pyout",
       "prompt_number": 5,
       "text": [
        "3x3 Array{Float64,2}:\n",
        "  8.23049  -2.65082   -3.31585 \n",
        " -2.65082   1.58139    0.521694\n",
        " -3.31585   0.521694   3.05579 "
       ]
      }
     ],
     "prompt_number": 5
    },
    {
     "cell_type": "markdown",
     "metadata": {},
     "source": [
      "###Solving linear systems \n",
      "The problem $Ax=b$ for square $A$ is solved by the \\ function."
     ]
    },
    {
     "cell_type": "code",
     "collapsed": false,
     "input": [
      "A\\b"
     ],
     "language": "python",
     "metadata": {},
     "outputs": [
      {
       "metadata": {},
       "output_type": "pyout",
       "prompt_number": 6,
       "text": [
        "3-element Array{Float64,1}:\n",
        " 1.0\n",
        " 1.0\n",
        " 1.0"
       ]
      }
     ],
     "prompt_number": 6
    },
    {
     "cell_type": "markdown",
     "metadata": {},
     "source": [
      "###Least squares\n",
      "When A is tall the \\ function calculates the least squares solution"
     ]
    },
    {
     "cell_type": "code",
     "collapsed": false,
     "input": [
      "A[:,1:2]\\b"
     ],
     "language": "python",
     "metadata": {},
     "outputs": [
      {
       "metadata": {},
       "output_type": "pyout",
       "prompt_number": 7,
       "text": [
        "2-element Array{Float64,1}:\n",
        " 0.355336\n",
        " 0.249271"
       ]
      }
     ],
     "prompt_number": 7
    },
    {
     "cell_type": "markdown",
     "metadata": {},
     "source": [
      "The \\ function also works for rank deficient least squares problems. In this case, the least squares solution is not unique and Julia returns the solution with smallest norm"
     ]
    },
    {
     "cell_type": "code",
     "collapsed": false,
     "input": [
      "[A[:,1] A[:,1]]\\b"
     ],
     "language": "python",
     "metadata": {},
     "outputs": [
      {
       "metadata": {},
       "output_type": "pyout",
       "prompt_number": 8,
       "text": [
        "2-element Array{Float64,1}:\n",
        " 0.137526\n",
        " 0.137526"
       ]
      }
     ],
     "prompt_number": 8
    },
    {
     "cell_type": "markdown",
     "metadata": {},
     "source": [
      "###Underdetermined systems\n",
      "Minimum norm solution is returned"
     ]
    },
    {
     "cell_type": "code",
     "collapsed": false,
     "input": [
      "A[1:2,:]\\b[1:2]"
     ],
     "language": "python",
     "metadata": {},
     "outputs": [
      {
       "metadata": {},
       "output_type": "pyout",
       "prompt_number": 9,
       "text": [
        "3-element Array{Float64,1}:\n",
        " -0.0050698\n",
        "  0.454406 \n",
        " -0.202015 "
       ]
      }
     ],
     "prompt_number": 9
    },
    {
     "cell_type": "markdown",
     "metadata": {},
     "source": [
      "##Factorization\n",
      "The `\\` function hides how the problem is actually solved. Depending on the dimensions of `A`, different methods are chosen to solve the problem. An intermediate step in the solution is to calculate a factorization of the matrix `A`. Basically, a factorization of `A` is a way of expressing `A` as a product of triangular, unitary and permutation matrices. Julia defines a `Factorization` abstract type and several composite subtypes for actually storing factorizations. A `Factorization` object should be thought of as a representation of the matrix `A`.\n",
      "###LU"
     ]
    },
    {
     "cell_type": "markdown",
     "metadata": {},
     "source": [
      "When `A` is square, problem is solved by factorizing the matrix `A=PLU` where `P` is a permutation matrix, `L` is lower triangular unit diagonal and `U` is upper triangular. Julia allows computing the LU factorization and defines a composite factorization type for storing it."
     ]
    },
    {
     "cell_type": "code",
     "collapsed": false,
     "input": [
      "Alu = lufact(A)"
     ],
     "language": "python",
     "metadata": {},
     "outputs": [
      {
       "metadata": {},
       "output_type": "pyout",
       "prompt_number": 10,
       "text": [
        "LU{Float64}(3x3 Array{Float64,2}:\n",
        " 2.00471   -0.121917  -1.62091 \n",
        " 0.609124  -0.975222   0.442652\n",
        " 0.822758   0.59646    1.43259 ,[2,2,3],0)"
       ]
      }
     ],
     "prompt_number": 10
    },
    {
     "cell_type": "markdown",
     "metadata": {},
     "source": [
      "The different parts of the factorization can be extracted by special indexing"
     ]
    },
    {
     "cell_type": "code",
     "collapsed": false,
     "input": [
      "Alu[:P]"
     ],
     "language": "python",
     "metadata": {},
     "outputs": [
      {
       "metadata": {},
       "output_type": "pyout",
       "prompt_number": 11,
       "text": [
        "3x3 Array{Float64,2}:\n",
        " 0.0  1.0  0.0\n",
        " 1.0  0.0  0.0\n",
        " 0.0  0.0  1.0"
       ]
      }
     ],
     "prompt_number": 11
    },
    {
     "cell_type": "code",
     "collapsed": false,
     "input": [
      "Alu[:L]"
     ],
     "language": "python",
     "metadata": {},
     "outputs": [
      {
       "metadata": {},
       "output_type": "pyout",
       "prompt_number": 12,
       "text": [
        "3x3 Array{Float64,2}:\n",
        " 1.0       0.0      0.0\n",
        " 0.609124  1.0      0.0\n",
        " 0.822758  0.59646  1.0"
       ]
      }
     ],
     "prompt_number": 12
    },
    {
     "cell_type": "code",
     "collapsed": false,
     "input": [
      "Alu[:U]"
     ],
     "language": "python",
     "metadata": {},
     "outputs": [
      {
       "metadata": {},
       "output_type": "pyout",
       "prompt_number": 13,
       "text": [
        "3x3 Array{Float64,2}:\n",
        " 2.00471  -0.121917  -1.62091 \n",
        " 0.0      -0.975222   0.442652\n",
        " 0.0       0.0        1.43259 "
       ]
      }
     ],
     "prompt_number": 13
    },
    {
     "cell_type": "markdown",
     "metadata": {},
     "source": [
      "We can therefore compute the solution of $Ax=b$ from the factorization"
     ]
    },
    {
     "cell_type": "code",
     "collapsed": false,
     "input": [
      "Alu[:U]\\(Alu[:L]\\(Alu[:P]'b))"
     ],
     "language": "python",
     "metadata": {},
     "outputs": [
      {
       "metadata": {},
       "output_type": "pyout",
       "prompt_number": 14,
       "text": [
        "3-element Array{Float64,1}:\n",
        " 1.0\n",
        " 1.0\n",
        " 1.0"
       ]
      }
     ],
     "prompt_number": 14
    },
    {
     "cell_type": "markdown",
     "metadata": {},
     "source": [
      "However, more importantly the `LU` type allows dispatch and we can solve the system by"
     ]
    },
    {
     "cell_type": "code",
     "collapsed": false,
     "input": [
      "Alu\\b"
     ],
     "language": "python",
     "metadata": {},
     "outputs": [
      {
       "metadata": {},
       "output_type": "pyout",
       "prompt_number": 15,
       "text": [
        "3-element Array{Float64,1}:\n",
        " 1.0\n",
        " 1.0\n",
        " 1.0"
       ]
      }
     ],
     "prompt_number": 15
    },
    {
     "cell_type": "markdown",
     "metadata": {},
     "source": [
      "This could be useful if the same left-hand-side is used for several right-hand-sides. The factorization can also be used for calculating the determinant because $\\det(A)=\\det(PLU)=\\det(P)\\det(U)=\\pm \\prod u_{ii}$ because $U$ is triangular and the sign is determined from $\\det(P)$."
     ]
    },
    {
     "cell_type": "code",
     "collapsed": false,
     "input": [
      "det(Alu)"
     ],
     "language": "python",
     "metadata": {},
     "outputs": [
      {
       "metadata": {},
       "output_type": "pyout",
       "prompt_number": 16,
       "text": [
        "2.800760493907129"
       ]
      }
     ],
     "prompt_number": 16
    },
    {
     "cell_type": "markdown",
     "metadata": {},
     "source": [
      "###QR\n",
      "When `A` is tall, Julia computes the least squares solution $\\hat{x}$ that minimizes $\\|Ax-b\\|_2$. This can be done by factorizing $A=QR$ where $Q$ is unitary/orthogonal and $R=\\left(\\begin{smallmatrix}R_0\\\\0\\end{smallmatrix}\\right)$ and $R_0$ is upper triangular. With the QR factorization the minimum norm can be expressed\n",
      "\\begin{equation*}\n",
      "\\|Ax-b\\|=\\|QRx-b\\|=\\|Q(Rx-Q'b)\\|=\\|Rx-Q'b\\|=\\left\\|\\begin{pmatrix}R_0x-Q_0'b\\\\Q_1'b\\end{pmatrix}\\right\\|=\\|R_0x-Q_0'b\\|+\\|Q_1'b\\|\n",
      "\\end{equation*}\n",
      "and the problem therefore reduces to solving the square problem $R_0x=Q_0'b$ for $x$.\n",
      "\n",
      "We can QR factorize the submatrix of the two first columns of $A$ by"
     ]
    },
    {
     "cell_type": "code",
     "collapsed": false,
     "input": [
      "Aqr = qrfact(A[:,1:2])"
     ],
     "language": "python",
     "metadata": {},
     "outputs": [
      {
       "metadata": {},
       "output_type": "pyout",
       "prompt_number": 17,
       "text": [
        "QRCompactWY{Float64}(3x2 Array{Float64,2}:\n",
        " -2.86888    0.923991 \n",
        "  0.490149  -0.853013 \n",
        "  0.403274   0.0670412,2x2 Array{Float64,2}:\n",
        " 1.42564       -1.46804\n",
        " 5.45353e-312   1.99105)"
       ]
      }
     ],
     "prompt_number": 17
    },
    {
     "cell_type": "markdown",
     "metadata": {},
     "source": [
      "`\\` has a method for the QR and the least squares problem is therefore solved with"
     ]
    },
    {
     "cell_type": "code",
     "collapsed": false,
     "input": [
      "Aqr\\b"
     ],
     "language": "python",
     "metadata": {},
     "outputs": [
      {
       "metadata": {},
       "output_type": "pyout",
       "prompt_number": 18,
       "text": [
        "2-element Array{Float64,1}:\n",
        " 0.355336\n",
        " 0.249271"
       ]
      }
     ],
     "prompt_number": 18
    },
    {
     "cell_type": "markdown",
     "metadata": {},
     "source": [
      "It should be noted that this is *not* the way `A[:,1:2]\\b` is solved. In order to handle rank deficient problems Julia uses a QR factorization with pivoting. Pivoting is enabled with a keyword"
     ]
    },
    {
     "cell_type": "code",
     "collapsed": false,
     "input": [
      "Aqrp = qrfact([A[:,1] A[:,1]],pivot=true)"
     ],
     "language": "python",
     "metadata": {},
     "outputs": [
      {
       "metadata": {},
       "output_type": "pyout",
       "prompt_number": 19,
       "text": [
        "QRPivoted{Float64}(3x2 Array{Float64,2}:\n",
        " -2.86888   -2.86888\n",
        "  0.490149   0.0    \n",
        "  0.403274   0.0    ,[1.42564,0.0],[1,2])"
       ]
      }
     ],
     "prompt_number": 19
    },
    {
     "cell_type": "markdown",
     "metadata": {},
     "source": [
      "Notice that the type is different now. `\\` also has a method for `QRPivoted` and the rank deficient problem is therefore computed"
     ]
    },
    {
     "cell_type": "code",
     "collapsed": false,
     "input": [
      "Aqrp\\b"
     ],
     "language": "python",
     "metadata": {},
     "outputs": [
      {
       "metadata": {},
       "output_type": "pyout",
       "prompt_number": 20,
       "text": [
        "2-element Array{Float64,1}:\n",
        " 0.137526\n",
        " 0.137526"
       ]
      }
     ],
     "prompt_number": 20
    },
    {
     "cell_type": "markdown",
     "metadata": {},
     "source": [
      "Another feature of the QR factorizations is the `Q` types for storing the unitary matrices $Q$. They can be extracted from the different from `QR` types by indexing"
     ]
    },
    {
     "cell_type": "code",
     "collapsed": false,
     "input": [
      "Aqr[:Q]"
     ],
     "language": "python",
     "metadata": {},
     "outputs": [
      {
       "metadata": {},
       "output_type": "pyout",
       "prompt_number": 21,
       "text": [
        "3x3 QRCompactWYQ{Float64}:\n",
        " -0.425642   0.769267\n",
        " -0.698778  -0.613996\n",
        " -0.574925   0.176743"
       ]
      }
     ],
     "prompt_number": 21
    },
    {
     "cell_type": "markdown",
     "metadata": {},
     "source": [
      "The matrix has a compact internal representation and indexing is therefore not defined"
     ]
    },
    {
     "cell_type": "code",
     "collapsed": false,
     "input": [
      "Aqr[:Q][1]"
     ],
     "language": "python",
     "metadata": {},
     "outputs": [
      {
       "ename": "LoadError",
       "evalue": "indexing not defined for QRCompactWYQ{Float64}\nwhile loading In[22], in expression starting on line 1",
       "output_type": "pyerr",
       "traceback": [
        "indexing not defined for QRCompactWYQ{Float64}\nwhile loading In[22], in expression starting on line 1",
        " in getindex at abstractarray.jl:357"
       ]
      }
     ],
     "prompt_number": 22
    },
    {
     "cell_type": "markdown",
     "metadata": {},
     "source": [
      "Even though the matrix is printed as a $3\\times 2$ matrix is a in practice representing the square version as well. Hence both"
     ]
    },
    {
     "cell_type": "code",
     "collapsed": false,
     "input": [
      "Aqr[:Q]*ones(2)"
     ],
     "language": "python",
     "metadata": {},
     "outputs": [
      {
       "metadata": {},
       "output_type": "pyout",
       "prompt_number": 23,
       "text": [
        "3-element Array{Float64,1}:\n",
        "  0.343624\n",
        " -1.31277 \n",
        " -0.398182"
       ]
      }
     ],
     "prompt_number": 23
    },
    {
     "cell_type": "markdown",
     "metadata": {},
     "source": [
      "and"
     ]
    },
    {
     "cell_type": "code",
     "collapsed": false,
     "input": [
      "Aqr[:Q]*ones(3)"
     ],
     "language": "python",
     "metadata": {},
     "outputs": [
      {
       "metadata": {},
       "output_type": "pyout",
       "prompt_number": 24,
       "text": [
        "3-element Array{Float64,1}:\n",
        " -0.132881\n",
        " -1.67981 \n",
        "  0.400707"
       ]
      }
     ],
     "prompt_number": 24
    },
    {
     "cell_type": "markdown",
     "metadata": {},
     "source": [
      "works, but not"
     ]
    },
    {
     "cell_type": "code",
     "collapsed": false,
     "input": [
      "Aqr[:Q]*ones(4)"
     ],
     "language": "python",
     "metadata": {},
     "outputs": [
      {
       "ename": "LoadError",
       "evalue": "DimensionMismatch(\"\")\nwhile loading In[26], in expression starting on line 1",
       "output_type": "pyerr",
       "traceback": [
        "DimensionMismatch(\"\")\nwhile loading In[26], in expression starting on line 1",
        " in * at linalg/factorization.jl:387"
       ]
      }
     ],
     "prompt_number": 26
    },
    {
     "cell_type": "markdown",
     "metadata": {},
     "source": [
      "###Eigendecompositions and the SVD(s)"
     ]
    },
    {
     "cell_type": "markdown",
     "metadata": {},
     "source": [
      "The results from eigendecompositions and singular values decompositions are also stored in `Factorization` types. This also includes Hessenberg and Schur factorizations.\n",
      "\n",
      "The eigendecomposition can be computed"
     ]
    },
    {
     "cell_type": "code",
     "collapsed": false,
     "input": [
      "AsymEig = eigfact(Asym)"
     ],
     "language": "python",
     "metadata": {},
     "outputs": [
      {
       "metadata": {},
       "output_type": "pyout",
       "prompt_number": 27,
       "text": [
        "Eigen{Float64,Float64}([-2.52923,2.44803,3.00559],3x3 Array{Float64,2}:\n",
        "  0.278461   0.490567   0.825714\n",
        " -0.736987   0.660426  -0.143829\n",
        " -0.615881  -0.56849    0.545445)"
       ]
      }
     ],
     "prompt_number": 27
    },
    {
     "cell_type": "markdown",
     "metadata": {},
     "source": [
      "The values and the vectors can be extracted from the Eigen type by special indexing"
     ]
    },
    {
     "cell_type": "code",
     "collapsed": false,
     "input": [
      "AsymEig[:values]"
     ],
     "language": "python",
     "metadata": {},
     "outputs": [
      {
       "metadata": {},
       "output_type": "pyout",
       "prompt_number": 28,
       "text": [
        "3-element Array{Float64,1}:\n",
        " -2.52923\n",
        "  2.44803\n",
        "  3.00559"
       ]
      }
     ],
     "prompt_number": 28
    },
    {
     "cell_type": "code",
     "collapsed": false,
     "input": [
      "AsymEig[:vectors]"
     ],
     "language": "python",
     "metadata": {},
     "outputs": [
      {
       "metadata": {},
       "output_type": "pyout",
       "prompt_number": 29,
       "text": [
        "3x3 Array{Float64,2}:\n",
        "  0.278461   0.490567   0.825714\n",
        " -0.736987   0.660426  -0.143829\n",
        " -0.615881  -0.56849    0.545445"
       ]
      }
     ],
     "prompt_number": 29
    },
    {
     "cell_type": "markdown",
     "metadata": {},
     "source": [
      "Once again, when the factorization is stored in a type, we can dispatch on it and write specialized methods that exploit the properties of the factorization, e.g. that $A^{-1}=(V\\Lambda V^{-1})^{-1}=V\\Lambda^{-1}V^{-1}$."
     ]
    },
    {
     "cell_type": "code",
     "collapsed": false,
     "input": [
      "inv(AsymEig)*Asym"
     ],
     "language": "python",
     "metadata": {},
     "outputs": [
      {
       "metadata": {},
       "output_type": "pyout",
       "prompt_number": 30,
       "text": [
        "3x3 Array{Float64,2}:\n",
        "  1.0          -5.27356e-16  -5.13478e-16\n",
        " -9.4369e-16    1.0           1.33227e-15\n",
        " -3.33067e-16   4.44089e-16   1.0        "
       ]
      }
     ],
     "prompt_number": 30
    },
    {
     "cell_type": "markdown",
     "metadata": {},
     "source": [
      "Julia also has an `eig` function which returns a tuple with the values and the vectors"
     ]
    },
    {
     "cell_type": "code",
     "collapsed": false,
     "input": [
      "eig(Asym)"
     ],
     "language": "python",
     "metadata": {},
     "outputs": [
      {
       "metadata": {},
       "output_type": "pyout",
       "prompt_number": 31,
       "text": [
        "([-2.52923,2.44803,3.00559],\n",
        "3x3 Array{Float64,2}:\n",
        "  0.278461   0.490567   0.825714\n",
        " -0.736987   0.660426  -0.143829\n",
        " -0.615881  -0.56849    0.545445)"
       ]
      }
     ],
     "prompt_number": 31
    },
    {
     "cell_type": "markdown",
     "metadata": {},
     "source": [
      "This is only provided for MATLAB compatibility and I do not recomment this version.\n",
      "\n",
      "The `svdfact` function computes the singular value decomposition"
     ]
    },
    {
     "cell_type": "code",
     "collapsed": false,
     "input": [
      "Asvd = svdfact(A[:,1:2])"
     ],
     "language": "python",
     "metadata": {},
     "outputs": [
      {
       "metadata": {},
       "output_type": "pyout",
       "prompt_number": 32,
       "text": [
        "SVD{Float64,Float64}(3x2 Array{Float64,2}:\n",
        " -0.495403   0.726305\n",
        " -0.638588  -0.676377\n",
        " -0.588881   0.122457,[3.02621,0.808667],2x2 Array{Float64,2}:\n",
        " -0.943896   0.330243\n",
        " -0.330243  -0.943896)"
       ]
      }
     ],
     "prompt_number": 32
    },
    {
     "cell_type": "markdown",
     "metadata": {},
     "source": [
      "and again `\\` has a method for the type enabling least squares by SVD"
     ]
    },
    {
     "cell_type": "code",
     "collapsed": false,
     "input": [
      "Asvd\\b"
     ],
     "language": "python",
     "metadata": {},
     "outputs": [
      {
       "metadata": {},
       "output_type": "pyout",
       "prompt_number": 33,
       "text": [
        "2-element Array{Float64,1}:\n",
        " 0.355336\n",
        " 0.249271"
       ]
      }
     ],
     "prompt_number": 33
    },
    {
     "cell_type": "markdown",
     "metadata": {},
     "source": [
      "In contrast to MATLAB, Julia does not allow dispatch on the number of output arguments and therefore there are special functions for providing values only: `eigvals` and `svdvals`."
     ]
    },
    {
     "cell_type": "markdown",
     "metadata": {},
     "source": [
      "##Special matrices\n",
      "The structure of matrices is very important in linear algebra. This structure can be made explicit in Julia through composite types. Examples are `Diagonal`, `Triangular`, `Symmetric`, `Hermitian`, `Tridiagonal` and `SymTridiagonal`. Specialized methods are written for the special matrix types to take advantage of their structure. Below some examples are shown"
     ]
    },
    {
     "cell_type": "code",
     "collapsed": false,
     "input": [
      "Diagonal(diag(A))"
     ],
     "language": "python",
     "metadata": {},
     "outputs": [
      {
       "metadata": {},
       "output_type": "pyout",
       "prompt_number": 34,
       "text": [
        "3x3 Diagonal{Float64}:\n",
        " 1.22112   0.0       0.0     \n",
        " 0.0      -0.121917  0.0     \n",
        " 0.0       0.0       0.362995"
       ]
      }
     ],
     "prompt_number": 34
    },
    {
     "cell_type": "code",
     "collapsed": false,
     "input": [
      "Triangular(tril(A))"
     ],
     "language": "python",
     "metadata": {},
     "outputs": [
      {
       "metadata": {},
       "output_type": "pyout",
       "prompt_number": 35,
       "text": [
        "3x3 Triangular{Float64}:\n",
        " 1.22112   0.0       0.0     \n",
        " 2.00471  -0.121917  0.0     \n",
        " 1.64939  -0.681989  0.362995"
       ]
      }
     ],
     "prompt_number": 35
    },
    {
     "cell_type": "code",
     "collapsed": false,
     "input": [
      "Symmetric(Asym)"
     ],
     "language": "python",
     "metadata": {},
     "outputs": [
      {
       "metadata": {},
       "output_type": "pyout",
       "prompt_number": 36,
       "text": [
        "3x3 Symmetric{Float64}:\n",
        " 2.44224    0.955227   1.10471 \n",
        " 0.955227  -0.243835  -2.3029  \n",
        " 1.10471   -2.3029     0.725991"
       ]
      }
     ],
     "prompt_number": 36
    },
    {
     "cell_type": "code",
     "collapsed": false,
     "input": [
      "SymTridiagonal(diag(Asym),diag(Asym,1))"
     ],
     "language": "python",
     "metadata": {},
     "outputs": [
      {
       "metadata": {},
       "output_type": "pyout",
       "prompt_number": 37,
       "text": [
        "3x3 SymTridiagonal{Float64}:\n",
        " 2.44224    0.955227   0.0     \n",
        " 0.955227  -0.243835  -2.3029  \n",
        " 0.0       -2.3029     0.725991"
       ]
      }
     ],
     "prompt_number": 37
    },
    {
     "cell_type": "markdown",
     "metadata": {},
     "source": [
      "When it is known that a matrix is e.g. triangular or symmetric Julia might be able to solve a problem faster by converting the matrix to a special matrix. For some of the procedures, Julia checks if the input matrix is triangular or symmetric and converts the matrix if such a structure is detected. It should noted that `Symmetric`, `Hermitian` and `Triangular` do not copy the input matrix.\n",
      "###Symmetric eigenproblem\n",
      "Whether or not Julia is able to detech if a matrix i symmetric/Hermitian can have a big influence on how fast an eigenvalue problem is solved. Sometimes it is known that a matric is symmetric or Hermitian but due to floating point errors this is not detected by the `eigvals` function. In following example `Asym1` and `Asym2` are almost identical, but the unless Julia is told that `Asym2` is symmetric, the elapsed time for the computation is very different."
     ]
    },
    {
     "cell_type": "code",
     "collapsed": false,
     "input": [
      "n = 1000;\n",
      "A = randn(n,n);\n",
      "Asym1 = A + A';\n",
      "Asym2 = copy(Asym1);Asym2[1,2] += 5eps();\n",
      "println(\"Is Asym1 symmetric? \", issym(Asym1))\n",
      "println(\"Is Asym2 symmetric? \", issym(Asym2))"
     ],
     "language": "python",
     "metadata": {},
     "outputs": [
      {
       "output_type": "stream",
       "stream": "stdout",
       "text": [
        "Is Asym1 symmetric? true"
       ]
      },
      {
       "output_type": "stream",
       "stream": "stdout",
       "text": [
        "\n",
        "Is Asym2 symmetric? false\n"
       ]
      }
     ],
     "prompt_number": 38
    },
    {
     "cell_type": "code",
     "collapsed": false,
     "input": [
      "@time eigvals(Asym1);"
     ],
     "language": "python",
     "metadata": {},
     "outputs": [
      {
       "output_type": "stream",
       "stream": "stdout",
       "text": [
        "elapsed time: 0."
       ]
      },
      {
       "output_type": "stream",
       "stream": "stdout",
       "text": [
        "470104509 seconds (8921768 bytes allocated)\n"
       ]
      }
     ],
     "prompt_number": 38
    },
    {
     "cell_type": "code",
     "collapsed": false,
     "input": [
      "@time eigvals(Asym2);"
     ],
     "language": "python",
     "metadata": {},
     "outputs": [
      {
       "output_type": "stream",
       "stream": "stdout",
       "text": [
        "elapsed time: 2"
       ]
      },
      {
       "output_type": "stream",
       "stream": "stdout",
       "text": [
        ".61170262 seconds (8574096 bytes allocated)\n"
       ]
      }
     ],
     "prompt_number": 38
    },
    {
     "cell_type": "code",
     "collapsed": false,
     "input": [
      "@time eigvals(Symmetric(Asym2));"
     ],
     "language": "python",
     "metadata": {},
     "outputs": [
      {
       "output_type": "stream",
       "stream": "stdout",
       "text": [
        "elapsed time: 0."
       ]
      },
      {
       "output_type": "stream",
       "stream": "stdout",
       "text": [
        "428100059 seconds (8435512 bytes allocated)\n"
       ]
      }
     ],
     "prompt_number": 38
    },
    {
     "cell_type": "markdown",
     "metadata": {},
     "source": [
      "### A big problem\n",
      "Using the tridiagonal matrices makes it possible to work with potentially very large problems. The following problem would not be possible to solve on a laptop if the matrix had to be stored as a `Matrix` type."
     ]
    },
    {
     "cell_type": "code",
     "collapsed": false,
     "input": [
      "n = 1_000_000;\n",
      "A = SymTridiagonal(randn(n), randn(n-1));\n",
      "@time eigmax(A)"
     ],
     "language": "python",
     "metadata": {},
     "outputs": [
      {
       "output_type": "stream",
       "stream": "stdout",
       "text": [
        "elapsed time: 1"
       ]
      },
      {
       "output_type": "stream",
       "stream": "stdout",
       "text": [
        ".003869886 seconds (216002736 bytes allocated)\n"
       ]
      },
      {
       "metadata": {},
       "output_type": "pyout",
       "prompt_number": 40,
       "text": [
        "6.501819823351534"
       ]
      }
     ],
     "prompt_number": 40
    },
    {
     "cell_type": "markdown",
     "metadata": {},
     "source": [
      "##Generic linear algebra\n",
      "The usual way of adding support for numerical linear algebra is by wrapping BLAS and LAPACK subroutines. For matrices with elements of `Float32`, `Float64`, `Complex{Float32}` or `Complex{Float64}` this is also what Julia do. For a long time Julia has also had support for multiplicaton of general element types. Hence, when multiplying integer matrices, the output is also an integer matrix"
     ]
    },
    {
     "cell_type": "code",
     "collapsed": false,
     "input": [
      "rand(1:10,3,3)*rand(1:10,3,3)"
     ],
     "language": "python",
     "metadata": {},
     "outputs": [
      {
       "metadata": {},
       "output_type": "pyout",
       "prompt_number": 41,
       "text": [
        "3x3 Array{Int64,2}:\n",
        "  96   80  117\n",
        " 125   62  122\n",
        " 139  103  155"
       ]
      }
     ],
     "prompt_number": 41
    },
    {
     "cell_type": "markdown",
     "metadata": {},
     "source": [
      "Recently, more generic linear algebra methods has been added and Julia now supports generic `LU` and `QR` factorizations. Generic eigenvalue methods are being tested and can hopefully be added to Julia soon.\n",
      "\n",
      "In general, the `LU` factorization can be computed whenever the matrix element type is closed under the operations `+`, `-`, `*` and `\\`. Of couse the matrix also has to have full rank. The generic `LU` method in Julia applies pivoting and therefore the element type also has to support `<` and `abs`. In consequence it is possible to solve systems of equations of e.g. rational numbers which the following examples show."
     ]
    },
    {
     "cell_type": "markdown",
     "metadata": {},
     "source": [
      "###Example 1: Rational linear system of equations\n",
      "Julia has rational numbers build in. The following example shows how a linear system of equations can be solved without promoting to floating point element types. Overflow can easisly become a problem when working with rational numbers so we use `BigInt`s."
     ]
    },
    {
     "cell_type": "code",
     "collapsed": false,
     "input": [
      "Ar = convert(Matrix{Rational{BigInt}}, rand(1:10,3,3))/10\n",
      "x = ones(Int,3)\n",
      "b = Ar*x\n",
      "Ar\\b"
     ],
     "language": "python",
     "metadata": {},
     "outputs": [
      {
       "metadata": {},
       "output_type": "pyout",
       "prompt_number": 42,
       "text": [
        "3-element Array{Rational{BigInt},1}:\n",
        " 1//1\n",
        " 1//1\n",
        " 1//1"
       ]
      }
     ],
     "prompt_number": 42
    },
    {
     "cell_type": "markdown",
     "metadata": {},
     "source": [
      "###Example 2: Rational matrix from eigenstructure\n",
      "The next example shows how we rational matrix arithmetic can be used for calculating a matrix given rational eigenvalues and -vectors. I have found this convenient when giving examples of linear dynamic systems."
     ]
    },
    {
     "cell_type": "code",
     "collapsed": false,
     "input": [
      "\u03bb1,\u03bb2,\u03bb3=1//1,1//2,1//4\n",
      "v1,v2,v3=[1,0,0],[1,1,0],[1,1,1]\n",
      "V,\u039b=[v1 v2 v3], Diagonal([\u03bb1,\u03bb2,\u03bb3])\n",
      "A = V*\u039b/V"
     ],
     "language": "python",
     "metadata": {},
     "outputs": [
      {
       "metadata": {},
       "output_type": "pyout",
       "prompt_number": 43,
       "text": [
        "3x3 Array{Rational{Int64},2}:\n",
        " 1//1  -1//2  -1//4\n",
        " 0//1   1//2  -1//4\n",
        " 0//1   0//1   1//4"
       ]
      }
     ],
     "prompt_number": 43
    },
    {
     "cell_type": "markdown",
     "metadata": {},
     "source": [
      "###Example 3: The Hilbert matrix.\n",
      "The Hilbert matrix $H$ defined by $(h_{ij})=\\frac{1}{1-i-j}$ is very ill conditioned. Even for small dimensions, the inverse of the Hilbert matrix is very imprecise in double precision. By defining the matrix with rational elements, the inverse can be calculated exact"
     ]
    },
    {
     "cell_type": "code",
     "collapsed": false,
     "input": [
      "nHilbert = 8\n",
      "H = Rational{BigInt}[1//(i+j-1) for i = 1:nHilbert,j = 1:nHilbert]"
     ],
     "language": "python",
     "metadata": {},
     "outputs": [
      {
       "metadata": {},
       "output_type": "pyout",
       "prompt_number": 44,
       "text": [
        "8x8 Array{Rational{BigInt},2}:\n",
        " 1//1  1//2  1//3   1//4   1//5   1//6   1//7   1//8 \n",
        " 1//2  1//3  1//4   1//5   1//6   1//7   1//8   1//9 \n",
        " 1//3  1//4  1//5   1//6   1//7   1//8   1//9   1//10\n",
        " 1//4  1//5  1//6   1//7   1//8   1//9   1//10  1//11\n",
        " 1//5  1//6  1//7   1//8   1//9   1//10  1//11  1//12\n",
        " 1//6  1//7  1//8   1//9   1//10  1//11  1//12  1//13\n",
        " 1//7  1//8  1//9   1//10  1//11  1//12  1//13  1//14\n",
        " 1//8  1//9  1//10  1//11  1//12  1//13  1//14  1//15"
       ]
      }
     ],
     "prompt_number": 44
    },
    {
     "cell_type": "code",
     "collapsed": false,
     "input": [
      "inv(H)"
     ],
     "language": "python",
     "metadata": {},
     "outputs": [
      {
       "metadata": {},
       "output_type": "pyout",
       "prompt_number": 45,
       "text": [
        "8x8 Array{Rational{BigInt},2}:\n",
        "      64//1      -2016//1       20160//1  \u2026       192192//1      -51480//1\n",
        "   -2016//1      84672//1     -952560//1       -10594584//1     2882880//1\n",
        "   20160//1    -952560//1    11430720//1       141261120//1   -38918880//1\n",
        "  -92400//1    4656960//1   -58212000//1      -776936160//1   216216000//1\n",
        "  221760//1  -11642400//1   149688000//1      2118916800//1  -594594000//1\n",
        " -288288//1   15567552//1  -204324120//1  \u2026  -3030051024//1   856215360//1\n",
        "  192192//1  -10594584//1   141261120//1      2175421248//1  -618377760//1\n",
        "  -51480//1    2882880//1   -38918880//1      -618377760//1   176679360//1"
       ]
      }
     ],
     "prompt_number": 45
    },
    {
     "cell_type": "markdown",
     "metadata": {},
     "source": [
      "Even for $n=8$ the difference between the exact and the floating point result is big."
     ]
    },
    {
     "cell_type": "code",
     "collapsed": false,
     "input": [
      "norm(float64(float(inv(H))) - inv(float64(float(H))),Inf)"
     ],
     "language": "python",
     "metadata": {},
     "outputs": [
      {
       "metadata": {},
       "output_type": "pyout",
       "prompt_number": 46,
       "text": [
        "124.85434710979462"
       ]
      }
     ],
     "prompt_number": 46
    },
    {
     "cell_type": "markdown",
     "metadata": {},
     "source": [
      "Another approach could be to use higher precision floating point numbers.\n",
      "###Example 4: A Hilbert matrix with `BigFloat` elements\n",
      "Higher precision floating point numbers are build into Julia and it is therefore easy to convert the Hilbert matrix"
     ]
    },
    {
     "cell_type": "code",
     "collapsed": false,
     "input": [
      "Hbf = convert(Matrix{BigFloat}, H);\n",
      "float64(norm(inv(Hbf)-inv(H),Inf))"
     ],
     "language": "python",
     "metadata": {},
     "outputs": [
      {
       "metadata": {},
       "output_type": "pyout",
       "prompt_number": 47,
       "text": [
        "6.304476724749898e-59"
       ]
      }
     ],
     "prompt_number": 47
    },
    {
     "cell_type": "markdown",
     "metadata": {},
     "source": [
      "Which is fairly precise. However, the matrix need not grow much before 256 bit floats are not sufficient"
     ]
    },
    {
     "cell_type": "code",
     "collapsed": false,
     "input": [
      "nHilbert = 30\n",
      "H = Rational{BigInt}[1//(i+j-1) for i = 1:nHilbert,j = 1:nHilbert];\n",
      "Hbf = convert(Matrix{BigFloat}, H);\n",
      "float64(norm(inv(Hbf)-inv(H),Inf))"
     ],
     "language": "python",
     "metadata": {},
     "outputs": [
      {
       "metadata": {},
       "output_type": "pyout",
       "prompt_number": 48,
       "text": [
        "2.1751007413310495e8"
       ]
      }
     ],
     "prompt_number": 48
    },
    {
     "cell_type": "markdown",
     "metadata": {},
     "source": [
      "The next example shows how the LU factorization can be used for a user defined number type.\n",
      "###Example 5: GF(2)\n",
      "Julia makes it easy to define new number types. The block below defines a type representing the Galois field with two elements GF(2)."
     ]
    },
    {
     "cell_type": "code",
     "collapsed": false,
     "input": [
      "import Base: &,|,<,+,-,*,/,abs,and_int,box,convert,div,inv,or_int,rem,print,promote_rule,show,showcompact,udiv_int,ult_int,unbox,urem_int,xor_int\n",
      "bitstype 8 GF2 <: Unsigned\n",
      "convert(::Type{GF2}, x::GF2) = x\n",
      "convert(::Type{GF2}, x::Uint8) = x == 0 || x == 1 ? box(GF2,unbox(Uint8,x)) : throw(ArgumentError(\"input must be zero or one\"))\n",
      "convert(::Type{GF2}, x::Integer) = convert(GF2,uint8(x))\n",
      "convert(::Type{Int8}, x::GF2) = box(Int8,unbox(GF2,x))\n",
      "convert(::Type{Uint8}, x::GF2) = box(Uint8,unbox(GF2,x))\n",
      "convert(::Type{Uint64}, x::GF2) = uint64(uint8(x))\n",
      "gf2(x::Integer) = convert(GF2,x)\n",
      "promote_rule(::Type{GF2},::Type{Uint64}) = Uint64\n",
      "print(io::IO, x::GF2) = print(io, int8(x))\n",
      "show(io::IO, x::GF2) = show(io, int8(x))\n",
      "showcompact(io::IO, x::GF2) = showcompact(io, int8(x))\n",
      "+(x::GF2, y::GF2) = box(GF2,xor_int(unbox(GF2,x),unbox(GF2,y)))\n",
      "-(x::GF2, y::GF2) = box(GF2,xor_int(unbox(GF2,x),unbox(GF2,y)))\n",
      "*(x::GF2, y::GF2) = box(GF2,and_int(unbox(GF2,x),unbox(GF2,y)))\n",
      "inv(x::GF2) = x==one(GF2) ? x : error(\"integer division error\")\n",
      "/(x::GF2,y::GF2) = x*inv(y)\n",
      "-(x::GF2) = x\n",
      "abs(x::GF2) = x\n",
      "div(x::GF2, y::GF2) = box(GF2,udiv_int(unbox(GF2,x),unbox(GF2,y)))\n",
      "rem(x::GF2, y::GF2) = box(GF2,urem_int(unbox(GF2,x),unbox(GF2,y)))\n",
      "<(x::GF2, y::GF2)   = ult_int(unbox(GF2,x),unbox(GF2,y))\n",
      "(&)(x::GF2, y::GF2) = box(GF2,and_int(unbox(GF2,x),unbox(GF2,y)))\n",
      "(|)(x::GF2, y::GF2) = box(GF2,or_int(unbox(GF2,x),unbox(GF2,y)));"
     ],
     "language": "python",
     "metadata": {},
     "outputs": [],
     "prompt_number": 48
    },
    {
     "cell_type": "markdown",
     "metadata": {},
     "source": [
      "The definitions `<` and `abs` do not really make sense for $GF(2)$, but they make it possible to do pivoting on the non-zero element. Below, the arithmetic rules are shown."
     ]
    },
    {
     "cell_type": "code",
     "collapsed": false,
     "input": [
      "x = gf2(1)\n",
      "y = gf2(0)\n",
      "println(\"x+y: \", x+y)\n",
      "println(\"x+x: \", x+x)\n",
      "println(\"x-x: \", x-x)\n",
      "println(\"x*y: \", x*y)\n",
      "println(\"x*x: \", x*x)\n",
      "println(\"x/x: \", x/x)\n",
      "println(\"y/x: \", y/x)"
     ],
     "language": "python",
     "metadata": {},
     "outputs": [
      {
       "output_type": "stream",
       "stream": "stdout",
       "text": [
        "x+y: 1"
       ]
      },
      {
       "output_type": "stream",
       "stream": "stdout",
       "text": [
        "\n",
        "x+x: 0\n",
        "x-x: 0\n",
        "x*y: 0\n",
        "x*x: 1\n",
        "x/x: 1\n",
        "y/x: 0\n"
       ]
      }
     ],
     "prompt_number": 138
    },
    {
     "cell_type": "markdown",
     "metadata": {},
     "source": [
      " We can now create a square matrix and a vector over $GF(2)$"
     ]
    },
    {
     "cell_type": "code",
     "collapsed": false,
     "input": [
      "Agf2 = convert(Matrix{GF2},randbool(4,4))"
     ],
     "language": "python",
     "metadata": {},
     "outputs": [
      {
       "metadata": {},
       "output_type": "pyout",
       "prompt_number": 142,
       "text": [
        "4x4 Array{GF2,2}:\n",
        " 0  0  0  1\n",
        " 1  1  1  0\n",
        " 0  1  1  1\n",
        " 1  0  1  1"
       ]
      }
     ],
     "prompt_number": 142
    },
    {
     "cell_type": "code",
     "collapsed": false,
     "input": [
      "bgf2 = convert(Vector{GF2}, randbool(4))"
     ],
     "language": "python",
     "metadata": {},
     "outputs": [
      {
       "metadata": {},
       "output_type": "pyout",
       "prompt_number": 143,
       "text": [
        "4-element Array{GF2,1}:\n",
        " 1\n",
        " 0\n",
        " 0\n",
        " 1"
       ]
      }
     ],
     "prompt_number": 143
    },
    {
     "cell_type": "markdown",
     "metadata": {},
     "source": [
      "and because the LU factorization in Julia works whenever the "
     ]
    },
    {
     "cell_type": "code",
     "collapsed": false,
     "input": [
      "xgf2 = Agf2\\bgf2"
     ],
     "language": "python",
     "metadata": {},
     "outputs": [
      {
       "metadata": {},
       "output_type": "pyout",
       "prompt_number": 144,
       "text": [
        "4-element Array{GF2,1}:\n",
        " 1\n",
        " 0\n",
        " 1\n",
        " 1"
       ]
      }
     ],
     "prompt_number": 144
    },
    {
     "cell_type": "code",
     "collapsed": false,
     "input": [
      "Agf2*xgf2 - bgf2"
     ],
     "language": "python",
     "metadata": {},
     "outputs": [
      {
       "metadata": {},
       "output_type": "pyout",
       "prompt_number": 145,
       "text": [
        "4-element Array{GF2,1}:\n",
        " 0\n",
        " 0\n",
        " 0\n",
        " 0"
       ]
      }
     ],
     "prompt_number": 145
    },
    {
     "cell_type": "markdown",
     "metadata": {},
     "source": [
      "It worked! The final example shows how the generic elementary reflectors work. The first step in solving a Hermitian eigenvalue problem is to tranform the Hermitian matrix to a real symmetric tridiagonal matrix by elementary reflectors of the form $H=I-v\\tau v'$ satisfying $H'H=I$, i.e. they are unitary. Most often, textbooks present the special case of Householder reflectors $H=I-2vv'$ where $v'v=1$. Householder reflectors have the nice property that they are also Hermitian, but they fail to reduce Hermitian matrix to a *real symmetric* tridiagonal matrix. The following example shows how the underlying real symmtric tridiagonal eigenproblem can be extracted from a Hermitian eigenvalue problem of a matrix with a userdefined element type.\n",
      "###Example 6: Quaternions\n",
      "In my github repo, I have a [package](https://github.com/andreasnoackjensen/Quaternions.jl.git) that defines quaternions. Recall that quaternions generalize complex numbers and can be written $q=x_1+x_2i+x_3j+x_4k$ where the \"imaginary\" units $i$,$j$ and $k$ satisfies $i^2=j^2=k^2=ijk=-1$. The only difficulty in defining quaternions is the fact that they do not commute, e.g. $ij=-ijkk=k$ but $ji=-jiijk=jjk=-k$. However, the generic algorithms for LU factorization and elementary reflectors do not assume commutativity and therefore we can solve positive definite eigenproblems for quaternions. First we compute a Hermitian matrix of quaternions"
     ]
    },
    {
     "cell_type": "code",
     "collapsed": false,
     "input": [
      "using Quaternions\n",
      "A = Quaternion{Float64}[Quaternion(randn(4)...) for i = 1:2,j=1:2];\n",
      "Aher = A + A'"
     ],
     "language": "python",
     "metadata": {},
     "outputs": [
      {
       "metadata": {},
       "output_type": "pyout",
       "prompt_number": 146,
       "text": [
        "2x2 Array{Quaternion{Float64},2}:\n",
        "                 -1.42901+0.0i+0.0j+0.0k  \u2026  -1.20241+0.293595i-3.21715j+0.00250102k\n",
        " -1.20241-0.293595i+3.21715j-0.00250102k                     -2.27177+0.0i+0.0j+0.0k"
       ]
      }
     ],
     "prompt_number": 146
    },
    {
     "cell_type": "markdown",
     "metadata": {},
     "source": [
      "We can now calculate the eigenvalues. In this case, we need explicitly to call the Hermtian constructor bacuse Julia Base only checks is the matrix is Hermitian when the element type is supported by LAPACK."
     ]
    },
    {
     "cell_type": "code",
     "collapsed": false,
     "input": [
      "eigvals(Hermitian(Aher))"
     ],
     "language": "python",
     "metadata": {},
     "outputs": [
      {
       "metadata": {},
       "output_type": "pyout",
       "prompt_number": 147,
       "text": [
        "2-element Array{Float64,1}:\n",
        " -5.32309\n",
        "  1.62231"
       ]
      }
     ],
     "prompt_number": 147
    },
    {
     "cell_type": "markdown",
     "metadata": {},
     "source": [
      "We can break down the steps of the calculation. First, the matrix is transformed to a symmtric tridiagonal matrix"
     ]
    },
    {
     "cell_type": "code",
     "collapsed": false,
     "input": [
      "AherFact = Quaternions.symtri!(copy(Hermitian(Aher)))"
     ],
     "language": "python",
     "metadata": {},
     "outputs": [
      {
       "metadata": {},
       "output_type": "pyout",
       "prompt_number": 152,
       "text": [
        "SymmetricTridiagonalFactorization{Quaternion{Float64}}(2x2 Array{Quaternion{Float64},2}:\n",
        " -1.42901+0.0i+0.0j+0.0k  -1.20241+0.293595i-3.21715j+0.00250102k\n",
        "  3.44704+0.0i+0.0j+0.0k                  -2.27177+0.0i+0.0j+0.0k,Quaternion{Float64}[1.34882+0.085173i-0.933309j+0.000725555k],2x2 SymTridiagonal{Float64}:\n",
        " -1.42901   3.44704\n",
        "  3.44704  -2.27177)"
       ]
      }
     ],
     "prompt_number": 152
    },
    {
     "cell_type": "markdown",
     "metadata": {},
     "source": [
      "The type does not print nicely and it is slightly more informative to get the property names"
     ]
    },
    {
     "cell_type": "code",
     "collapsed": false,
     "input": [
      "names(AherFact)"
     ],
     "language": "python",
     "metadata": {},
     "outputs": [
      {
       "metadata": {},
       "output_type": "pyout",
       "prompt_number": 153,
       "text": [
        "3-element Array{Symbol,1}:\n",
        " :factors      \n",
        " :scalarfactors\n",
        " :diagonals    "
       ]
      }
     ],
     "prompt_number": 153
    },
    {
     "cell_type": "markdown",
     "metadata": {},
     "source": [
      "The property `factors` is a matrix with quaternion elements whose diagonal and subdiagonal contain the real symmetric tridiagonal matrix, i.e. the $i$,$j$ and $k$ terms are all zero. The elements below the subdiagonal contains the elements of the vectors $v$ of the elementary reflectors. The property `scalafactors` contains the multiplyers $\\tau$. Finally, the property `diagonals` contains a real  `SymTridiagonal` matrix. \n",
      "\n",
      "When we do not assume commutativity, an elementary reflector is written $H=I-v\\tau v^*$. As in `LAPACK` we use the convention that the first element of $v$ is one. Hence, we can write check the factorization $A^*A=QSQ^*$ where $Q$ is unitary and $S$ is a tridiagonal matrix."
     ]
    },
    {
     "cell_type": "code",
     "collapsed": false,
     "input": [
      "Q = [1 0;0 1-AherFact.scalarfactors[1]];\n",
      "S = full(AherFact.diagonals);\n",
      "norm(Aher-Q*S*Q',1)"
     ],
     "language": "python",
     "metadata": {},
     "outputs": [
      {
       "metadata": {},
       "output_type": "pyout",
       "prompt_number": 154,
       "text": [
        "1.7766851532539086e-15"
       ]
      }
     ],
     "prompt_number": 154
    },
    {
     "cell_type": "markdown",
     "metadata": {},
     "source": [
      "All arithmetic operations are more expensive because a quaternion contains four real elements. Furthermore, LAPACK is fast bacause it uses blocked algorithms which we do not in our generic code. Anyway, the reduction to a real symmetric tridiagonal matrix can be done fairly fast. Below we present some results for computational time and memory usage.\n",
      "####Real"
     ]
    },
    {
     "cell_type": "code",
     "collapsed": false,
     "input": [
      "n = 500;\n",
      "A = randn(n,n);\n",
      "Apd = A'A;\n",
      "@time eigvals(Symmetric(Apd));"
     ],
     "language": "python",
     "metadata": {},
     "outputs": [
      {
       "output_type": "stream",
       "stream": "stdout",
       "text": [
        "elapsed time: 0."
       ]
      },
      {
       "output_type": "stream",
       "stream": "stdout",
       "text": [
        "082535236 seconds (2189472 bytes allocated)\n"
       ]
      }
     ],
     "prompt_number": 154
    },
    {
     "cell_type": "markdown",
     "metadata": {},
     "source": [
      "####Complex"
     ]
    },
    {
     "cell_type": "code",
     "collapsed": false,
     "input": [
      "A = complex(randn(n,n),randn(n,n));\n",
      "Apd = A'A;\n",
      "@time eigvals(Hermitian(Apd));"
     ],
     "language": "python",
     "metadata": {},
     "outputs": [
      {
       "output_type": "stream",
       "stream": "stdout",
       "text": [
        "elapsed time: 0."
       ]
      },
      {
       "output_type": "stream",
       "stream": "stdout",
       "text": [
        "188167424 seconds (4417584 bytes allocated)\n"
       ]
      }
     ],
     "prompt_number": 154
    },
    {
     "cell_type": "markdown",
     "metadata": {},
     "source": [
      "####Quaternion\n"
     ]
    },
    {
     "cell_type": "code",
     "collapsed": false,
     "input": [
      "A = Quaternion{Float64}[Quaternion(randn(4)...) for i = 1:n,j=1:n];\n",
      "Apd = A'A;\n",
      "@time eigvals(Hermitian(Apd,:L));"
     ],
     "language": "python",
     "metadata": {},
     "outputs": [
      {
       "output_type": "stream",
       "stream": "stdout",
       "text": [
        "elapsed time: 0."
       ]
      },
      {
       "output_type": "stream",
       "stream": "stdout",
       "text": [
        "884585021 seconds (8199712 bytes allocated)\n"
       ]
      }
     ],
     "prompt_number": 154
    },
    {
     "cell_type": "code",
     "collapsed": false,
     "input": [],
     "language": "python",
     "metadata": {},
     "outputs": []
    }
   ],
   "metadata": {}
  }
 ]
}